{
  "cells": [
    {
      "cell_type": "raw",
      "metadata": {},
      "source": [
        "---\n",
        "title: \"intro to Quarto\"\n",
        "author: \"Tobias M. Osborne\"\n",
        "format: html\n",
        "editor: visual\n",
        "execute:\n",
        "  warning: false\n",
        "  message: false\n",
        "bibliography: references.bib\n",
        "---"
      ],
      "id": "bae9d095"
    },
    {
      "cell_type": "markdown",
      "metadata": {},
      "source": [
        "# Level 1 Header\n",
        "\n",
        "This is regular old boring text\n",
        "\n",
        "## Level 2 Header\n",
        "\n",
        "*bullet list* list item 2 \\*indented bullet\n",
        "\n",
        "1.  number list\n",
        "2.  list item 2\n",
        "\n",
        "Here is some more plain text. But if you want *italics* or *italics*. This is **bold**\n",
        "\n",
        "\n",
        "```{important code}\n",
        "x <- 1+2\n",
        "\n",
        "```\n",
        "\n",
        "\n",
        "My important result is `r x` (this is an in-line code)\n",
        "or another important thing is ` r 6*7`.\n",
        "\n",
        "| Col1    | Col2 | Col3 |\n",
        "|---------|------|------|\n",
        "| thing 1 | 1    |      |\n",
        "| thing 2 | 2    |      |\n",
        "| thing 3 | 3    |      |\n",
        "|         | 4    |      |\n",
        "|         | 5    |      |\n",
        "\n",
        ": Table 1\n",
        "\n",
        "[@oke2020]"
      ],
      "id": "12347431"
    }
  ],
  "metadata": {
    "kernelspec": {
      "display_name": "Python 3",
      "language": "python",
      "name": "python3"
    }
  },
  "nbformat": 4,
  "nbformat_minor": 5
}